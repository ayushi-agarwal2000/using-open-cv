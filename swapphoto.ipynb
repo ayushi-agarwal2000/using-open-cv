{
 "cells": [
  {
   "cell_type": "code",
   "execution_count": null,
   "id": "7445246e",
   "metadata": {},
   "outputs": [],
   "source": [
    "#Swap image"
   ]
  },
  {
   "cell_type": "code",
   "execution_count": 1,
   "id": "60bb573d",
   "metadata": {},
   "outputs": [],
   "source": [
    "import cv2\n",
    "import numpy as np"
   ]
  },
  {
   "cell_type": "code",
   "execution_count": 2,
   "id": "3b0a4583",
   "metadata": {},
   "outputs": [],
   "source": [
    "tom=cv2.imread(\"jerry.jpg\")\n",
    "tom=cv2.resize(tom,(196,135))"
   ]
  },
  {
   "cell_type": "code",
   "execution_count": 3,
   "id": "8ee87682",
   "metadata": {},
   "outputs": [],
   "source": [
    "cv2.imshow('hii',tom)\n",
    "\n",
    "cv2.waitKey()\n",
    "cv2.destroyAllWindows()"
   ]
  },
  {
   "cell_type": "code",
   "execution_count": 4,
   "id": "328809f0",
   "metadata": {},
   "outputs": [],
   "source": [
    "tom=cv2.imread(\"jerry.jpg\")\n",
    "#tom=cv2.resize(tom,(300,300))\n",
    "crop1=tom[10:120,20:1000]\n",
    "crop1=cv2.resize(crop1,(140,60))\n",
    "cv2.imshow('hii',crop1)\n",
    "\n",
    "cv2.waitKey()\n",
    "cv2.destroyAllWindows()"
   ]
  },
  {
   "cell_type": "markdown",
   "id": "cc2ae7c8",
   "metadata": {},
   "source": []
  },
  {
   "cell_type": "code",
   "execution_count": 5,
   "id": "dceecfb9",
   "metadata": {},
   "outputs": [
    {
     "data": {
      "text/plain": [
       "(60, 140, 3)"
      ]
     },
     "execution_count": 5,
     "metadata": {},
     "output_type": "execute_result"
    }
   ],
   "source": [
    "crop1.shape"
   ]
  },
  {
   "cell_type": "markdown",
   "id": "4bd151a4",
   "metadata": {},
   "source": []
  },
  {
   "cell_type": "code",
   "execution_count": 6,
   "id": "e8110e04",
   "metadata": {},
   "outputs": [],
   "source": [
    "jerry=cv2.imread(\"tom.jpg\")\n",
    "jerry=cv2.resize(jerry,(196,135))"
   ]
  },
  {
   "cell_type": "code",
   "execution_count": 7,
   "id": "986e8d7c",
   "metadata": {},
   "outputs": [],
   "source": [
    "cv2.imshow('hii',jerry)\n",
    "\n",
    "cv2.waitKey()\n",
    "cv2.destroyAllWindows()"
   ]
  },
  {
   "cell_type": "code",
   "execution_count": 8,
   "id": "b24f0c5b",
   "metadata": {},
   "outputs": [],
   "source": [
    "jerry=cv2.imread(\"tom.jpg\")\n",
    "#jerry=cv2.resize(jerry,(196,135))\n",
    "crop2=jerry[10:90,50:200]\n",
    "#crop2=cv2.resize(crop2,(140,60))\n",
    "cv2.imshow('hii',crop2)\n",
    "\n",
    "cv2.waitKey()\n",
    "cv2.destroyAllWindows()"
   ]
  },
  {
   "cell_type": "code",
   "execution_count": 9,
   "id": "4f1cc9ea",
   "metadata": {},
   "outputs": [
    {
     "data": {
      "text/plain": [
       "(80, 146, 3)"
      ]
     },
     "execution_count": 9,
     "metadata": {},
     "output_type": "execute_result"
    }
   ],
   "source": [
    "crop2.shape"
   ]
  },
  {
   "cell_type": "code",
   "execution_count": 10,
   "id": "eb16bca8",
   "metadata": {},
   "outputs": [],
   "source": [
    "tom1=cv2.imread(\"jerry.jpg\")\n",
    "tom1[20:100,50:196]=crop2\n",
    "tom=cv2.imread(\"jerry.jpg\")\n",
    "cv2.imshow('hii',tom1)\n",
    "\n",
    "cv2.waitKey()\n",
    "cv2.destroyAllWindows()\n",
    "\n",
    "\n"
   ]
  },
  {
   "cell_type": "code",
   "execution_count": 11,
   "id": "8905cef9",
   "metadata": {},
   "outputs": [],
   "source": [
    "jerry1=cv2.imread(\"tom.jpg\")\n",
    "jerry1[30:90,20:160]=crop1\n",
    "cv2.imshow('hii',jerry1)\n",
    "\n",
    "cv2.waitKey()\n",
    "cv2.destroyAllWindows()"
   ]
  },
  {
   "cell_type": "code",
   "execution_count": 12,
   "id": "9a24ee9b",
   "metadata": {},
   "outputs": [],
   "source": [
    "#collage"
   ]
  },
  {
   "cell_type": "code",
   "execution_count": 13,
   "id": "4ee03a68",
   "metadata": {},
   "outputs": [],
   "source": [
    "mickey=cv2.imread(\"mickey1.jpg\")\n",
    "mickey= cv2.resize(mickey,(300,300))\n",
    "cv2.imshow('mickey',mickey)\n",
    "\n",
    "cv2.waitKey()\n",
    "cv2.destroyAllWindows()\n"
   ]
  },
  {
   "cell_type": "code",
   "execution_count": 14,
   "id": "075a10b3",
   "metadata": {},
   "outputs": [],
   "source": [
    "minnie=cv2.imread(\"minnie.jpg\")\n",
    "minnie= cv2.resize(minnie,(300,300))\n",
    "cv2.imshow('minnie',minnie)\n",
    "\n",
    "cv2.waitKey()\n",
    "cv2.destroyAllWindows()"
   ]
  },
  {
   "cell_type": "code",
   "execution_count": 15,
   "id": "d848b059",
   "metadata": {},
   "outputs": [],
   "source": [
    "img=np.vstack((mickey,minnie))\n",
    "image= cv2.resize(img,(300,300))\n",
    "cv2.imshow('hii',image)\n",
    "\n",
    "cv2.waitKey()\n",
    "cv2.destroyAllWindows()"
   ]
  },
  {
   "cell_type": "code",
   "execution_count": 16,
   "id": "5b42afdb",
   "metadata": {},
   "outputs": [],
   "source": [
    "img=np.hstack((mickey,minnie))\n",
    "image= cv2.resize(img,(300,300))\n",
    "cv2.imshow('hii',image)\n",
    "\n",
    "cv2.waitKey()\n",
    "cv2.destroyAllWindows()"
   ]
  },
  {
   "cell_type": "code",
   "execution_count": null,
   "id": "6781bb50",
   "metadata": {},
   "outputs": [],
   "source": []
  },
  {
   "cell_type": "code",
   "execution_count": null,
   "id": "82d0ba1d",
   "metadata": {},
   "outputs": [],
   "source": []
  }
 ],
 "metadata": {
  "kernelspec": {
   "display_name": "Python 3",
   "language": "python",
   "name": "python3"
  },
  "language_info": {
   "codemirror_mode": {
    "name": "ipython",
    "version": 3
   },
   "file_extension": ".py",
   "mimetype": "text/x-python",
   "name": "python",
   "nbconvert_exporter": "python",
   "pygments_lexer": "ipython3",
   "version": "3.8.8"
  }
 },
 "nbformat": 4,
 "nbformat_minor": 5
}
