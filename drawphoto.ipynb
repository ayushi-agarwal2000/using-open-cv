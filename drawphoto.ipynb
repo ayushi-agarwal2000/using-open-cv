{
 "cells": [
  {
   "cell_type": "code",
   "execution_count": 1,
   "id": "83c9b22f",
   "metadata": {},
   "outputs": [],
   "source": [
    "\n",
    "\n",
    "#CREATE IMAGE\n",
    "\n",
    "\n"
   ]
  },
  {
   "cell_type": "code",
   "execution_count": 2,
   "id": "235a1cd1",
   "metadata": {},
   "outputs": [],
   "source": [
    "import cv2\n",
    "\n",
    "import numpy as np"
   ]
  },
  {
   "cell_type": "code",
   "execution_count": 3,
   "id": "48d65416",
   "metadata": {},
   "outputs": [],
   "source": [
    "black=np.zeros([480,480,3],np.uint8)\n",
    "cv2.imshow(\"black box\",black)\n",
    "cv2.waitKey()\n",
    "cv2.destroyAllWindows()"
   ]
  },
  {
   "cell_type": "code",
   "execution_count": 4,
   "id": "ca2e3d07",
   "metadata": {},
   "outputs": [],
   "source": [
    "recImg =cv2.rectangle(black,(150,250),(400,400),[150,150,150],5)\n"
   ]
  },
  {
   "cell_type": "code",
   "execution_count": 5,
   "id": "e897dfb9",
   "metadata": {},
   "outputs": [],
   "source": [
    "criImg =cv2.circle(black,(260,150),40,[250,0,0],-5)\n"
   ]
  },
  {
   "cell_type": "code",
   "execution_count": 6,
   "id": "157df7ed",
   "metadata": {},
   "outputs": [],
   "source": [
    "linImg =cv2.line(black,(150,250),(250,20),[150,150,150],5)\n"
   ]
  },
  {
   "cell_type": "code",
   "execution_count": 7,
   "id": "8031baaa",
   "metadata": {},
   "outputs": [],
   "source": [
    "lin2Img =cv2.line(black,(400,250),(250,20),[150,150,150],5)\n",
    "cv2.imshow(\"black box\",lin2Img)\n"
   ]
  },
  {
   "cell_type": "code",
   "execution_count": 8,
   "id": "e82a92ea",
   "metadata": {},
   "outputs": [],
   "source": [
    "lin3Img =cv2.line(black,(250,400),(250,350),[150,150,150],5)\n"
   ]
  },
  {
   "cell_type": "code",
   "execution_count": 9,
   "id": "1df50c27",
   "metadata": {},
   "outputs": [],
   "source": [
    "lin4Img =cv2.line(black,(250,350),(320,350),[150,150,150],5)\n"
   ]
  },
  {
   "cell_type": "code",
   "execution_count": 10,
   "id": "fadf37b0",
   "metadata": {},
   "outputs": [],
   "source": [
    "lin4Img =cv2.line(black,(320,350),(320,400),[150,150,150],5)\n"
   ]
  },
  {
   "cell_type": "code",
   "execution_count": 11,
   "id": "c6fcc0ab",
   "metadata": {},
   "outputs": [],
   "source": [
    "recImg =cv2.rectangle(black,(154,253),(200,285),[255,0,0],-5)\n"
   ]
  },
  {
   "cell_type": "code",
   "execution_count": 12,
   "id": "d659ef5e",
   "metadata": {},
   "outputs": [],
   "source": [
    "recImg =cv2.rectangle(black,(350,253),(398,285),[255,0,0],-5)\n",
    "cv2.imshow(\"black box\",recImg)\n",
    "cv2.waitKey()\n",
    "cv2.destroyAllWindows()"
   ]
  },
  {
   "cell_type": "code",
   "execution_count": null,
   "id": "497b37f6",
   "metadata": {},
   "outputs": [],
   "source": []
  },
  {
   "cell_type": "code",
   "execution_count": null,
   "id": "4591c0b9",
   "metadata": {},
   "outputs": [],
   "source": []
  },
  {
   "cell_type": "code",
   "execution_count": null,
   "id": "7592ca2b",
   "metadata": {},
   "outputs": [],
   "source": []
  }
 ],
 "metadata": {
  "kernelspec": {
   "display_name": "Python 3",
   "language": "python",
   "name": "python3"
  },
  "language_info": {
   "codemirror_mode": {
    "name": "ipython",
    "version": 3
   },
   "file_extension": ".py",
   "mimetype": "text/x-python",
   "name": "python",
   "nbconvert_exporter": "python",
   "pygments_lexer": "ipython3",
   "version": "3.8.8"
  }
 },
 "nbformat": 4,
 "nbformat_minor": 5
}
